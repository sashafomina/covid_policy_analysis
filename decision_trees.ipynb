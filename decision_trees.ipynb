{
 "cells": [
  {
   "cell_type": "code",
   "execution_count": 7,
   "metadata": {},
   "outputs": [],
   "source": [
    "import pandas as pd"
   ]
  },
  {
   "cell_type": "code",
   "execution_count": 42,
   "metadata": {},
   "outputs": [],
   "source": [
    "import matplotlib.pyplot as plt\n",
    "import matplotlib.dates as dates"
   ]
  },
  {
   "cell_type": "code",
   "execution_count": 8,
   "metadata": {},
   "outputs": [],
   "source": [
    "from scripts.data_funcs import *"
   ]
  },
  {
   "cell_type": "code",
   "execution_count": 38,
   "metadata": {},
   "outputs": [],
   "source": [
    "import xgboost as xgb\n",
    "from sklearn.model_selection import train_test_split\n",
    "from sklearn.metrics import mean_squared_error"
   ]
  },
  {
   "cell_type": "markdown",
   "metadata": {},
   "source": [
    "# Compile Input Data"
   ]
  },
  {
   "cell_type": "code",
   "execution_count": 12,
   "metadata": {},
   "outputs": [
    {
     "name": "stderr",
     "output_type": "stream",
     "text": [
      "/home/beau/anaconda3/lib/python3.8/site-packages/IPython/core/interactiveshell.py:3338: DtypeWarning: Columns (2,3) have mixed types.Specify dtype option on import or set low_memory=False.\n",
      "  if (await self.run_code(code, result,  async_=asy)):\n"
     ]
    }
   ],
   "source": [
    "# Get state policy data\n",
    "input_df = get_state_policy_data(fill=True)\n",
    "\n",
    "# Keep relevant columns\n",
    "input_df = input_df[['region_name', 'date', 'c6_stay_at_home_requirements']]\n",
    "\n",
    "# Add days since policy change\n",
    "input_df.loc[:, 'days_since_more_strict'] = time_elapsed_since_policy_change(input_df, \n",
    "                                                                                     'c6_stay_at_home_requirements',\n",
    "                                                                                      type_change='more_strict')\n",
    "input_df.loc[:, 'days_since_less_strict'] = time_elapsed_since_policy_change(input_df, \n",
    "                                                                                     'c6_stay_at_home_requirements',\n",
    "                                                                                      type_change='less_strict')\n",
    "\n",
    "# Rename region_name to state\n",
    "input_df.rename(columns={'region_name': 'state'}, inplace=True)\n",
    "\n",
    "# Get US daily case data for 50 states\n",
    "us_state_daily = get_state_covid_daily_data()\n",
    "not_states = ['District of Columbia', 'Guam', 'Northern Mariana Islands','Puerto Rico', 'Virgin Islands']\n",
    "us_state_daily_50 =  us_state_daily[~(us_state_daily.state.isin(not_states))]\n",
    "\n",
    "# Merge daily cases with input df\n",
    "input_df = us_state_daily_50.merge(input_df, how='left', on=['state', 'date'] )\n",
    "\n",
    "# Get cumulative cases and add as col to input df\n",
    "input_df['yesterdays_active_cases'] = get_yesterdays_active_cases(input_df, window=30)\n",
    "input_df['future_cases'] = get_future_cum_cases(input_df, window=30)\n",
    "\n",
    "# Merge pop density with input df\n",
    "input_df = input_df.merge(get_pop_density_by_state_data(), on='state', how='left')\n",
    "\n",
    "# Merge mobility data with input df\n",
    "input_df = input_df.merge(get_at_away_6_data(), on=['date', 'state'], how='left')\n",
    "\n",
    "# Merge wage data with input df\n",
    "input_df = input_df.merge(get_scaled_wages_data()[['state', 'scaled_median_income']], on=['state'], how='left')\n",
    "\n",
    "# Merge political data with input df\n",
    "input_df = input_df.merge(get_political_data(), on=['state'], how='left')\n",
    "\n",
    "# Binary encode state names\n",
    "alpha_ordered_states = input_df.state.unique()\n",
    "alpha_ordered_states.sort()\n",
    "binary_state_encoded_df = binary_encode_category(alpha_ordered_states, 'state')\n",
    "input_df = input_df.merge(binary_state_encoded_df, on='state', how='left')\n",
    "\n",
    "# Adding day, year, month and dropping date\n",
    "input_df['day'] = input_df.date.dt.day\n",
    "input_df['month'] = input_df.date.dt.month\n",
    "input_df['year'] = input_df.date.dt.year-2020\n",
    "\n",
    "# Grab time window to split training and test data\n",
    "date_start = \"2020-01-01\"\n",
    "date_end = \"2020-12-31\"\n",
    "train_df = input_df.loc[(input_df['date'] >= date_start) & \n",
    "                        (input_df['date'] <= date_end)].copy()\n",
    "test_df = input_df.loc[(input_df['date'] > date_end)].copy()\n",
    "\n",
    "# Drop unused cols\n",
    "train_df = train_df.drop(columns=['state', 'deaths', 'date', 'cases'])\n",
    "test_df = test_df.drop(columns=['state', 'deaths', 'date', 'cases'])"
   ]
  },
  {
   "cell_type": "code",
   "execution_count": 24,
   "metadata": {},
   "outputs": [],
   "source": [
    "# Get input and output for training\n",
    "x_train_df = train_df.loc[:, train_df.columns != 'future_cases'].copy()\n",
    "y_train_df = train_df[['future_cases']].copy()\n",
    "\n",
    "# Get input and output for testing\n",
    "x_test_df = test_df.loc[:, test_df.columns != 'future_cases'].copy()\n",
    "y_test_df = test_df[['future_cases']].copy()"
   ]
  },
  {
   "cell_type": "markdown",
   "metadata": {},
   "source": [
    "# XGBoost Model"
   ]
  },
  {
   "cell_type": "code",
   "execution_count": 77,
   "metadata": {},
   "outputs": [],
   "source": [
    "# Data DMatrix is special datatype used by XGboost, quicker performance\n",
    "train_data_dmatrix = xgb.DMatrix(data=x_train_df, label = y_train_df)\n",
    "test_data_dmatrix = xgb.DMatrix(data=x_test_df, label = y_test_df)"
   ]
  },
  {
   "cell_type": "code",
   "execution_count": 78,
   "metadata": {},
   "outputs": [],
   "source": [
    "# Cross validate for optimal parameters\n",
    "params = {\"objective\":\"reg:squarederror\",'colsample_bytree': 0.3,'learning_rate': 0.1,\n",
    "                'max_depth': 5, 'alpha': 10}\n",
    "\n",
    "cv_results = xgb.cv(dtrain=train_data_dmatrix, params=params, nfold=3,\n",
    "                    num_boost_round=50, early_stopping_rounds=10,metrics=\"rmse\", as_pandas=True, seed=123)"
   ]
  },
  {
   "cell_type": "code",
   "execution_count": 91,
   "metadata": {},
   "outputs": [],
   "source": [
    "xg_reg = xgb.train(params=params, dtrain=train_data_dmatrix, num_boost_round = 15)"
   ]
  },
  {
   "cell_type": "code",
   "execution_count": 92,
   "metadata": {},
   "outputs": [
    {
     "data": {
      "image/png": "[encoded data removed]",
      "text/plain": [
       "<Figure size 360x360 with 1 Axes>"
      ]
     },
     "metadata": {
      "needs_background": "light"
     },
     "output_type": "display_data"
    }
   ],
   "source": [
    "xgb.plot_importance(xg_reg)\n",
    "plt.rcParams['figure.figsize'] = [5, 5]\n",
    "plt.show()"
   ]
  },
  {
   "cell_type": "code",
   "execution_count": 93,
   "metadata": {},
   "outputs": [
    {
     "data": {
      "text/plain": [
       "47435.629943973356"
      ]
     },
     "execution_count": 93,
     "metadata": {},
     "output_type": "execute_result"
    }
   ],
   "source": [
    "# Get RMSE on test set\n",
    "np.sqrt(mean_squared_error(y_test_df, xg_reg.predict(test_data_dmatrix)))"
   ]
  },
  {
   "cell_type": "code",
   "execution_count": null,
   "metadata": {},
   "outputs": [],
   "source": []
  }
 ],
 "metadata": {
  "kernelspec": {
   "display_name": "Python 3",
   "language": "python",
   "name": "python3"
  },
  "language_info": {
   "codemirror_mode": {
    "name": "ipython",
    "version": 3
   },
   "file_extension": ".py",
   "mimetype": "text/x-python",
   "name": "python",
   "nbconvert_exporter": "python",
   "pygments_lexer": "ipython3",
   "version": "3.8.5"
  }
 },
 "nbformat": 4,
 "nbformat_minor": 4
}
